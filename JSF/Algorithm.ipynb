{
 "cells": [
  {
   "cell_type": "code",
   "execution_count": 20,
   "metadata": {
    "scrolled": false
   },
   "outputs": [
    {
     "data": {
      "application/vnd.jupyter.widget-view+json": {
       "model_id": "3f28a3a3c21d4012b2dc7f3e462e5aee",
       "version_major": 2,
       "version_minor": 0
      },
      "text/plain": [
       "Button(description='1. Запустить вариант из лабораторной', layout=Layout(height='50px', width='500px'), style=…"
      ]
     },
     "metadata": {},
     "output_type": "display_data"
    },
    {
     "data": {
      "application/vnd.jupyter.widget-view+json": {
       "model_id": "bd0c9efa0d7045edb745801793c7f7ae",
       "version_major": 2,
       "version_minor": 0
      },
      "text/plain": [
       "Button(description='2. Запустить тест (t и p близки (32,64,128...))', layout=Layout(height='50px', width='500p…"
      ]
     },
     "metadata": {},
     "output_type": "display_data"
    },
    {
     "data": {
      "application/vnd.jupyter.widget-view+json": {
       "model_id": "e6edb65a98ca479ca4137aefc5f02cf3",
       "version_major": 2,
       "version_minor": 0
      },
      "text/plain": [
       "Button(description='3. Запустить тест (среднее время для 3 точек)', layout=Layout(height='50px', width='500px'…"
      ]
     },
     "metadata": {},
     "output_type": "display_data"
    },
    {
     "data": {
      "application/vnd.jupyter.widget-view+json": {
       "model_id": "21a6dbd3600347babbcfc0f9eba41cf0",
       "version_major": 2,
       "version_minor": 0
      },
      "text/plain": [
       "IntText(value=0, description='Разр. p: ', layout=Layout(height='50px', width='300px'))"
      ]
     },
     "metadata": {},
     "output_type": "display_data"
    },
    {
     "data": {
      "application/vnd.jupyter.widget-view+json": {
       "model_id": "de3dadbc7b8f48a6a94ca943be688870",
       "version_major": 2,
       "version_minor": 0
      },
      "text/plain": [
       "IntText(value=0, description='Введите p: ')"
      ]
     },
     "metadata": {},
     "output_type": "display_data"
    },
    {
     "data": {
      "application/vnd.jupyter.widget-view+json": {
       "model_id": "42245aad5ad548d489910deb9c583261",
       "version_major": 2,
       "version_minor": 0
      },
      "text/plain": [
       "Button(description='Сгенерировать p', layout=Layout(height='50px', width='300px'), style=ButtonStyle())"
      ]
     },
     "metadata": {},
     "output_type": "display_data"
    },
    {
     "data": {
      "application/vnd.jupyter.widget-view+json": {
       "model_id": "21959fe209f445f2b92a98d0b9a4acfe",
       "version_major": 2,
       "version_minor": 0
      },
      "text/plain": [
       "IntText(value=0, description='A = ')"
      ]
     },
     "metadata": {},
     "output_type": "display_data"
    },
    {
     "data": {
      "application/vnd.jupyter.widget-view+json": {
       "model_id": "e5f12fb771e040d298b0132a0fc1271d",
       "version_major": 2,
       "version_minor": 0
      },
      "text/plain": [
       "IntText(value=0, description='B = ')"
      ]
     },
     "metadata": {},
     "output_type": "display_data"
    },
    {
     "data": {
      "application/vnd.jupyter.widget-view+json": {
       "model_id": "66c441a39bb0438aa7e200e361bbc0c1",
       "version_major": 2,
       "version_minor": 0
      },
      "text/plain": [
       "Button(description='Сгенерировать A и B', layout=Layout(height='50px', width='300px'), style=ButtonStyle())"
      ]
     },
     "metadata": {},
     "output_type": "display_data"
    },
    {
     "data": {
      "application/vnd.jupyter.widget-view+json": {
       "model_id": "73b1f7081aa246098e1a8454c055f641",
       "version_major": 2,
       "version_minor": 0
      },
      "text/plain": [
       "IntText(value=0, description='X1 = ')"
      ]
     },
     "metadata": {},
     "output_type": "display_data"
    },
    {
     "data": {
      "application/vnd.jupyter.widget-view+json": {
       "model_id": "4307895f3f27460aa9521fb721d0c145",
       "version_major": 2,
       "version_minor": 0
      },
      "text/plain": [
       "Button(description='Сгенерировать X1', layout=Layout(height='50px', width='300px'), style=ButtonStyle())"
      ]
     },
     "metadata": {},
     "output_type": "display_data"
    },
    {
     "data": {
      "application/vnd.jupyter.widget-view+json": {
       "model_id": "f6715178066542138cff552224f8fccc",
       "version_major": 2,
       "version_minor": 0
      },
      "text/plain": [
       "IntText(value=0, description='X2 = ')"
      ]
     },
     "metadata": {},
     "output_type": "display_data"
    },
    {
     "data": {
      "application/vnd.jupyter.widget-view+json": {
       "model_id": "1e29138a172147649269454ad9658159",
       "version_major": 2,
       "version_minor": 0
      },
      "text/plain": [
       "Button(description='Сгенерировать X2', layout=Layout(height='50px', width='300px'), style=ButtonStyle())"
      ]
     },
     "metadata": {},
     "output_type": "display_data"
    },
    {
     "data": {
      "application/vnd.jupyter.widget-view+json": {
       "model_id": "defeaf23a90f48ad91e382b1d39c2b76",
       "version_major": 2,
       "version_minor": 0
      },
      "text/plain": [
       "IntText(value=0, description='Разр. k: ', layout=Layout(height='50px', width='300px'))"
      ]
     },
     "metadata": {},
     "output_type": "display_data"
    },
    {
     "data": {
      "application/vnd.jupyter.widget-view+json": {
       "model_id": "c8e74cebe3a54bc7890a678bb0d93960",
       "version_major": 2,
       "version_minor": 0
      },
      "text/plain": [
       "IntText(value=0, description='Введите k1: ')"
      ]
     },
     "metadata": {},
     "output_type": "display_data"
    },
    {
     "data": {
      "application/vnd.jupyter.widget-view+json": {
       "model_id": "5980a88202f84cba9a6b2fc881d7f1e7",
       "version_major": 2,
       "version_minor": 0
      },
      "text/plain": [
       "Button(description='Сгенерировать k1', layout=Layout(height='50px', width='300px'), style=ButtonStyle())"
      ]
     },
     "metadata": {},
     "output_type": "display_data"
    },
    {
     "data": {
      "application/vnd.jupyter.widget-view+json": {
       "model_id": "34d595272b494af184ffcc134d8e9eab",
       "version_major": 2,
       "version_minor": 0
      },
      "text/plain": [
       "IntText(value=0, description='Введите k2: ')"
      ]
     },
     "metadata": {},
     "output_type": "display_data"
    },
    {
     "data": {
      "application/vnd.jupyter.widget-view+json": {
       "model_id": "76b17fda61f8487f87e4fa602b0bd78c",
       "version_major": 2,
       "version_minor": 0
      },
      "text/plain": [
       "Button(description='Сгенерировать k2', layout=Layout(height='50px', width='300px'), style=ButtonStyle())"
      ]
     },
     "metadata": {},
     "output_type": "display_data"
    },
    {
     "data": {
      "application/vnd.jupyter.widget-view+json": {
       "model_id": "d2c0fcb394884591b7fe9aefa3549e42",
       "version_major": 2,
       "version_minor": 0
      },
      "text/plain": [
       "Button(description='Запустить алгоритмы', layout=Layout(height='50px', width='300px'), style=ButtonStyle())"
      ]
     },
     "metadata": {},
     "output_type": "display_data"
    },
    {
     "name": "stdout",
     "output_type": "stream",
     "text": [
      "\n",
      "E =  Elliptic Curve defined by y^2 = x^3 + 1779772268*x + 1604751060 over Finite Field of size 4035595313\n",
      "p = 4035595313\n",
      "p (bit) = 32\n",
      "P1 =  (1775922215 : 1574846898 : 1)\n",
      "P2 =  (3428391586 : 290255483 : 1)\n",
      "P1*  1073337829 + P2* 935151479\n",
      "JSF = (72424253 : 3561484194 : 1)\n",
      "Sage = (72424253 : 3561484194 : 1)\n",
      "Sage time = 0.030763626098632812\n",
      "JSF time = 0.01217031478881836\n",
      "Время предвычислений:  0.0015256404876708984\n"
     ]
    }
   ],
   "source": [
    "import random\n",
    "from IPython.display import display, clear_output\n",
    "from ipywidgets import widgets, Button, Layout\n",
    "import sympy as sym\n",
    "import math\n",
    "import time\n",
    "import matplotlib.pyplot as plt\n",
    "import pandas as pd\n",
    "from prettytable import PrettyTable\n",
    "\n",
    "p = None\n",
    "A = None\n",
    "B = None\n",
    "E = 0\n",
    "Z = 1\n",
    "c = 2\n",
    "d = 3\n",
    "#JacobCoord(x, y, z, p, ToYac): Эта функция конвертирует точки между аффинными и Якобиановыми координатами.\n",
    "#Если ToYac равно 1, \n",
    "#функция конвертирует из аффинных в Якобиановы координаты, иначе - наоборот.\n",
    "def JacobCoord(x, y, z, p, ToYac):\n",
    "    if ToYac == 1:\n",
    "        if x == 0 and y == 1:\n",
    "            return 1, 1, 0\n",
    "        return mod(x/z^c, p), mod(y/z^d, p), mod(1/z, p)\n",
    "    else:\n",
    "        if x == 1 and y == 1 and z == 0:\n",
    "            return 0, 1, 0\n",
    "        return mod(x/z^c, p), mod(y/z^d, p) ,mod(1, p)\n",
    "    \n",
    "#double(X, Y, Z, A, p): Эта функция удваивает точку в якобиановых координатах. Функция возвращает координаты удвоенной точки.\n",
    "def double(X, Y, Z, A, p):\n",
    "    T1 = mod(X^2, p)\n",
    "    T2 = mod(Y^2, p)\n",
    "    T3 = mod(T2^2, p)\n",
    "    C = mod(Z^2, p)\n",
    "    \n",
    "    S = mod(2*((X + T2)^2 - T1 - T3), p)\n",
    "    \n",
    "    M = mod(3*T1 + A*C^2, p)\n",
    "    F = mod(M^2 - 2*S, p)\n",
    "    \n",
    "    X2 = F\n",
    "    Y2 = mod(M*(S - F) - 8*T3, p)\n",
    "    Z2 = mod((Y + Z)^2 - T2 - C, p)\n",
    "\n",
    "    return X2, Y2, Z2\n",
    "\n",
    "#addJacob(X1, Y1, Z1, X2, Y2, Z2, p): Эта функция добавляет \n",
    "#две точки в смешанных Якобианово-афинных координатах. Возвращает координаты результата.\n",
    "def addJacob(X1, Y1, Z1, X2, Y2, Z2, p):\n",
    "    if X2 == 0 and Y2 == 1:\n",
    "        return X1, Y1, Z1\n",
    "    \n",
    "    T1 = mod(Z1^2, p)\n",
    "    T2 = mod(Z2^2, p)\n",
    "    U1 = mod(X1*T2, p)\n",
    "    U2 = mod(X2*T1, p)\n",
    "    \n",
    "    S1 = mod(Y1*Z2*T2, p)\n",
    "    S2 = mod(Y2*Z1*T1, p)\n",
    "    H = mod(U2 - U1, p)\n",
    "    I = mod((2*H)^2, p)\n",
    "    \n",
    "    J = mod(H*I, p)\n",
    "    r = mod(2*(S2 - S1), p)\n",
    "    V = mod(U1*I, p)\n",
    "    \n",
    "    X3 = mod(r^2 - J - 2*V, p)\n",
    "    Y3 = mod(r*(V - X3) - 2*S1*J, p)\n",
    "    Z3 = mod(((Z1 + Z2)^2 - T1 - T2)*H, p)\n",
    "\n",
    "    return (X3, Y3, Z3)\n",
    "#addPoints(P, Q, E): Эта функция принимает две точки P и Q в аффинных координатах, преобразует их в якобиановы координаты,\n",
    "#добавляет их вместе с использованием функции addJacob, а затем преобразует результат обратно в аффинные координаты.\n",
    "def addPoints(P, Q, E):\n",
    "    z = randint(1, p-1)\n",
    "\n",
    "    if P[0] == 0 and P[1] == 1:\n",
    "        Xp, Yp, Zp = 1, 1, 0\n",
    "    else:\n",
    "        Xp, Yp, Zp = JacobCoord(P[0], P[1], z, p, 1)\n",
    "\n",
    "    Xr, Yr, Zr = addJacob(Xp, Yp, Zp, Q[0], Q[1], 1, p)\n",
    "    Xa, Ya, Za = JacobCoord(Xr, Yr, Zr, p, 0)\n",
    "\n",
    "    return E(Xa, Ya, Za)\n",
    "\n",
    "#doublePoint(P, E): Эта функция принимает точку P в аффинных координатах, преобразует ее в якобиановы координаты,\n",
    "#удваивает ее с использованием функции double, а затем преобразует результат обратно в аффинные координаты.\n",
    "def doublePoint(P, E):\n",
    "    z = randint(1, p-1)\n",
    "    \n",
    "    Xp, Yp, Zp = JacobCoord(P[0], P[1], z, p, 1)\n",
    "    Xd, Yd, Zd = double(Xp, Yp, Zp, A, p)\n",
    "    Xa, Ya, Za = JacobCoord(Xd, Yd, Zd, p, 0)\n",
    "    \n",
    "    return E(Xa, Ya, Za)\n",
    "\n",
    "#binaryMult(P, E, k): Эта функция выполняет двоичное\n",
    "#умножение точки P на число k с использованием сложения и удвоения точек эллиптической кривой.\n",
    "def binaryMult(P, E, k):\n",
    "    Q = E(0, 1, 0)\n",
    "    k_bin = k.binary()\n",
    "    t = len(k_bin)\n",
    "    i = t - 1\n",
    "    while i >= 0 :\n",
    "        if k_bin[i] == '1':\n",
    "            Q = addPoints(P, Q, E)\n",
    "        P = doublePoint(P, E)\n",
    "        i -= 1\n",
    "    return Q\n",
    "\n",
    "def generate_y_on_elliptic_curve(E, x):\n",
    "    y_sqr = x**3 + E.a4() * x + E.a6()  # Уравнение кривой для определения y^2\n",
    "    if y_sqr.is_square():\n",
    "        y = y_sqr.sqrt()\n",
    "        return y\n",
    "    else:\n",
    "        return -5\n",
    "\n",
    "def generate_random_point_on_elliptic_curve(E):\n",
    "    while True:\n",
    "        x = Integer(randrange(1, p))  # Случайное x в диапазоне [1, p-1]\n",
    "        y_sqr = x**3 + E.a4() * x + E.a6()  # Уравнение кривой для определения y^2\n",
    "        if y_sqr.is_square():\n",
    "            y = y_sqr.sqrt()\n",
    "            return E(x, y)\n",
    "def generate_random_point_on_elliptic_curve2(E):\n",
    "    while True:\n",
    "        x = Integer(randrange(1, p_input.value))  # Случайное x в диапазоне [1, p-1]\n",
    "        y_sqr = x**3 + E.a4() * x + E.a6()  # Уравнение кривой для определения y^2\n",
    "        if y_sqr.is_square():\n",
    "            y = y_sqr.sqrt()\n",
    "            return E(x, y)\n",
    "\n",
    "# def double_point(P, a, p):\n",
    "#     if P is None:\n",
    "#         return None\n",
    "\n",
    "#     l = ((3 * P[0]**2 + a) * pow(2 * P[1], -1, p)) % p\n",
    "#     x = (l**2 - 2 * P[0]) % p\n",
    "#     y = ((l * (P[0] - x) - P[1]) % p)\n",
    "\n",
    "#     return (x,y)\n",
    "\n",
    "\n",
    "def addPoinnts(P, Q,p):\n",
    "\n",
    "    if P is None:\n",
    "        return Q\n",
    "    if Q is None:\n",
    "        return P\n",
    "\n",
    "\n",
    "    l = ((Q[1] - P[1]) * pow(Q[0] - P[0], -1, p)) % p\n",
    "    x = (l ** 2 - P[0] - Q[0]) % p\n",
    "    y = ((l * (P[0] - x) - P[1]) % p)\n",
    "\n",
    "    return (P+Q)\n",
    "\n",
    "\n",
    "# def binary_multiplication(P, k, a, p):\n",
    "#     if k == 0:\n",
    "#         return None\n",
    "\n",
    "#     k_binary = bin(k)[2:]\n",
    "#     Q = None\n",
    "\n",
    "#     for i in range(len(k_binary) - 1, -1, -1):\n",
    "#         Q = double_point(Q, a, p)\n",
    "#         if k_binary[len(k_binary) - 1-i] == '1':\n",
    "#             Q = add_points(Q, P, a, p)\n",
    "\n",
    "#     return Q\n",
    "\n",
    "\n",
    "def jsf(k1, k2):\n",
    "    k = {}\n",
    "    k[1], k[2] = k1, k2\n",
    "    l = 0\n",
    "    d = {}\n",
    "    d[1], d[2] = 0, 0\n",
    "    K = {1:[], 2:[]}\n",
    "    l_ = {}\n",
    "    while (k[1] + d[1] > 0) or (k[2] + d[2] > 0):\n",
    "        l_[1] = d[1] + k[1]\n",
    "        l_[2] = d[2] + k[2]\n",
    "        \n",
    "        for i in range(1, 3):\n",
    "            if mod(l_[i], 2) == 0:\n",
    "                u = 0\n",
    "            else:\n",
    "                u = mod(l_[i], 4)\n",
    "                if (mod(l_[i], 8) == 3 or mod(l_[i], 8) == -3) and mod(l_[3-i], 4) == 2:\n",
    "                    u = -u\n",
    "                \n",
    "            if u == 3:\n",
    "                K[i].append(-1)\n",
    "            else:\n",
    "                K[i].append(u)\n",
    "        \n",
    "        for i in range(1, 3):\n",
    "            if 2*d[i] == 1 + K[i][l]:\n",
    "                d[i] = 1 - d[i]\n",
    "            k[i] = int(k[i]/2)\n",
    "            \n",
    "        l += 1\n",
    "    \n",
    "    return K\n",
    "\n",
    "\n",
    "def precalculated(G, Q):\n",
    "    list_points = {}\n",
    "    \n",
    "    list_points[5] = addPoints(G,Q,E)\n",
    "    list_points[-5] = addPoints((-G),(-Q),E) #-G - Q\n",
    "    list_points[2] = G\n",
    "    list_points[3] = Q\n",
    "    list_points[1] = addPoints((-G),Q,E) #-G + Q\n",
    "    list_points[-1] = addPoints(G,(-Q),E) #G - Q\n",
    "    list_points[-2] = -G\n",
    "    list_points[-3] = -Q\n",
    "    list_points[0] = 0\n",
    "    \n",
    "    return list_points\n",
    "\n",
    "\n",
    "def JSF(k1, k2, G, Q):\n",
    "    start_time = time.time()\n",
    "    list_points = precalculated(G, Q)\n",
    "    time_precalcul = time.time() - start_time\n",
    "    \n",
    "    start_time = time.time()\n",
    "    K = jsf(k1, k2)\n",
    "    d = len(K[1])\n",
    "    R = E(0, 1, 0)\n",
    "    \n",
    "    for i in range(d - 1, -1, -1):\n",
    "        #R = 2*R\n",
    "        R = doublePoint(R, E)\n",
    "        #R = R + int(K[1][i])*G + int(K[2][i])*Q\n",
    "        M = list_points[Integer(2*K[1][i]) + Integer(3*K[2][i])]\n",
    "        #print(\"Integer(2*K[1][i]) + Integer(3*K[2][i]) = \", Integer(2*K[1][i]) + Integer(3*K[2][i]))\n",
    "        #print(\"M = \", M)\n",
    "        if (Integer(2*K[1][i]) + Integer(3*K[2][i]))!=0:\n",
    "            R = addPoinnts(R, M,p)\n",
    "        #R = R + list_points[int(2*K[1][i]) + int(3*K[2][i])]\n",
    "    \n",
    "    return R, time.time() - start_time, time_precalcul\n",
    "\n",
    "\n",
    "\n",
    "def run_big_test(b):\n",
    "    global p, A, B, E\n",
    "    n = 1024\n",
    "    k_bits = [32, 64, 128, 256, 512,1023]\n",
    "    #num_passes = 5\n",
    "    \n",
    "   \n",
    "    JSF_times = []\n",
    "    Stupid_Solution_Times = []\n",
    "    \n",
    "    p = random_prime(2^n - 1, lbound=2^(n-1))\n",
    "    A, B = 0, 0\n",
    "    E = None\n",
    "    while not E:\n",
    "        A = randint(2, p - 2)\n",
    "        B = randint(2, p - 2)\n",
    "        try:\n",
    "            E = EllipticCurve(GF(p), [A, B])\n",
    "        except ValueError:\n",
    "            E = None\n",
    "    P1 = generate_random_point_on_elliptic_curve(E)\n",
    "    P2 = generate_random_point_on_elliptic_curve(E)\n",
    "    P3 = generate_random_point_on_elliptic_curve(E)\n",
    "    print(\"p (bit) =\", len(p.binary()))\n",
    "    print(\"E = \", E)\n",
    "    print(\"P1 = \", P1)\n",
    "    print(\"P2 = \", P2)\n",
    "    print(\"P3 = \", P3)\n",
    "    for k in k_bits:\n",
    "        #print('k=',k)\n",
    "        Stupid_Solution_Times_P1_P2 = 0\n",
    "        Stupid_Solution_Times_P1_P3 = 0\n",
    "        Stupid_Solution_Times_P2_P3 = 0\n",
    "        JSF_P1_P2_times = 0\n",
    "        JSF_P1_P3_times = 0\n",
    "        JSF_P2_P3_times = 0\n",
    "        k1 = random_prime(2^k - 1, lbound=2^(k-1))\n",
    "        #print(\"k1 (bit) =\", len(k1.binary()))\n",
    "        k2 = random_prime(2^k - 1, lbound=2^(k-1))\n",
    "        #print(\"k2 (bit) =\", len(k2.binary()))\n",
    "        #print()\n",
    "        \n",
    "        start_time = time.time()\n",
    "        P11 = binaryMult(P1, E, k1) \n",
    "        P22 = binaryMult(P2, E, k2) \n",
    "        PP = addPoints(P11,P22,E)\n",
    "        Stupid_Solution_Times_P1_P2 = time.time() - start_time  \n",
    "        #print(\"Stupid_Solution_Times_P1_P2 = \", PP)\n",
    "        \n",
    "        start_time = time.time()\n",
    "        P11 = binaryMult(P1, E, k1) \n",
    "        P33 = binaryMult(P3, E, k2) \n",
    "        PP = addPoints(P11,P33,E)\n",
    "        Stupid_Solution_Times_P1_P3 = time.time() - start_time\n",
    "        \n",
    "        start_time = time.time()\n",
    "        P22 = binaryMult(P2, E, k1) \n",
    "        P33 = binaryMult(P3, E, k2) \n",
    "        PP = addPoints(P22,P33,E)\n",
    "        Stupid_Solution_Times_P2_P3 = time.time() - start_time\n",
    "        \n",
    "        Stupid_Solution_Times.append((Stupid_Solution_Times_P1_P2 + Stupid_Solution_Times_P1_P3 + Stupid_Solution_Times_P2_P3 / 3))\n",
    "        \n",
    "        PP, times, times2 = JSF(k1, k2, P1, P2)\n",
    "        JSF_P1_P2_times = times\n",
    "        #print(\"JSF_P1_P2 = \", PP)\n",
    "        #print()\n",
    "        \n",
    "        PP, times, times3 = JSF(k1, k2, P1, P3)\n",
    "        JSF_P1_P3_times = times\n",
    "        \n",
    "        PP, times, times4 = JSF(k1, k2, P2, P3)\n",
    "        JSF_P2_P3_times = times\n",
    "        if k == 32:\n",
    "            All_time = times2+times3+times4\n",
    "            print(\"Время предвычислений: \", All_time)\n",
    "        \n",
    "        JSF_times.append((JSF_P1_P2_times + JSF_P1_P3_times + JSF_P2_P3_times) / 3 )\n",
    "\n",
    "    # Create a DataFrame with results\n",
    "    results = pd.DataFrame({\n",
    "        'k_bits': k_bits,\n",
    "        'Stupid_Solution Time': Stupid_Solution_Times,\n",
    "        'JSF Time': JSF_times\n",
    "    })\n",
    "    \n",
    "    # Display the table\n",
    "    print(results)\n",
    "    \n",
    "    # Создайте график\n",
    "    plt.figure(figsize=(30, 15))\n",
    "\n",
    "    # Отображаем данные на графике\n",
    "    plt.plot(k_bits, Stupid_Solution_Times, marker='o', label='Stupid_Solution')\n",
    "    plt.plot(k_bits, JSF_times, marker='o', label='JSF')\n",
    "    \n",
    "\n",
    "    # Добавляем заголовок и метки осей\n",
    "    plt.title('Время выполнения программы', fontsize=24)\n",
    "    plt.xlabel('Разрядность k', fontsize=18)\n",
    "    plt.ylabel('Время (секунды)', fontsize=18)\n",
    "\n",
    "    # Добавляем легенду с максимальным увеличением размера шрифта\n",
    "    plt.legend(fontsize=18)\n",
    "\n",
    "    # Настройка меток оси X\n",
    "    plt.xticks(k_bits, fontsize=20)\n",
    "    # Настройка меток оси Y\n",
    "    plt.yticks(fontsize=20)\n",
    "\n",
    "    # Отобразить график\n",
    "    plt.grid()\n",
    "    plt.show()  \n",
    "\n",
    "def test():\n",
    "    global p,A,B,E,Xg,Yg,Xq,Yq,k1,k2\n",
    "    p = 115792089237316193816632940749697632408932724669461758699102671622853342616127\n",
    "    A = 10001090682862736796505780343107022911835438229291751861888571869223050424594\n",
    "    B = 45264756867680555803214833811970559410867867042681754140959938453766481155105\n",
    "    Xg = 34131522064967883044818697086599304935071739419701303653954060188761196377435\n",
    "    Yg = 22161743160862324650134218095423264926581638655388631138889754360346138331114\n",
    "    Xq = 36165359026576437742151345460371859975651866220385050258939633540903065959717\n",
    "    Yq = 36943478257105992475915633328919578144889502533328778740461803868682833354169\n",
    "    k1 = 440044004412345678900987654321\n",
    "    k2 = 44^16\n",
    "\n",
    "    E = EllipticCurve(GF(p), [A, B])\n",
    "    G = E([Xg, Yg])\n",
    "    Q = E([Xq, Yq])\n",
    "    lens = [32, 64, 128, 256, 512, 1024, 2048, 4096]\n",
    "\n",
    "    for i in lens:\n",
    "        k1 = random_prime(2^i - 1, lbound=2^(i-1))\n",
    "        k2 = random_prime(2^i - 1, lbound=2^(i-1))\n",
    "        print(\"k1 (bit) =\", len(k1.binary()))\n",
    "        print(\"k2 (bit) =\", len(k2.binary()))\n",
    "        #k1 = random.randint(2^i, 2^(i + 1))\n",
    "        #k2 = random.randint(2^i, 2^(i + 1))\n",
    "        P, times = JSF(k1, k2, G, Q)\n",
    "        print(\"JSF = \", P)\n",
    "        \n",
    "        start_time = time.time()\n",
    "        P1 = binaryMult(G, E, k1) \n",
    "        P2 = binaryMult(Q, E, k2) \n",
    "        P = addPoints(P1, P2,E)\n",
    "        print(\"Sage = \", P)\n",
    "        print(\"Sage =\", time.time() - start_time)\n",
    "        print(\"JSF time =\", times)\n",
    "        print()\n",
    "      \n",
    "    \n",
    "\n",
    "\n",
    "\n",
    "def run_lab_variant(b):\n",
    "    global p,A,B,E,Xg,Yg,Xq,Yq,k1,k2\n",
    "    p = 115792089237316193816632940749697632408932724669461758699102671622853342616127\n",
    "    A = 10001090682862736796505780343107022911835438229291751861888571869223050424594\n",
    "    B = 45264756867680555803214833811970559410867867042681754140959938453766481155105\n",
    "    Xg = 34131522064967883044818697086599304935071739419701303653954060188761196377435\n",
    "    Yg = 22161743160862324650134218095423264926581638655388631138889754360346138331114\n",
    "    Xq = 36165359026576437742151345460371859975651866220385050258939633540903065959717\n",
    "    Yq = 36943478257105992475915633328919578144889502533328778740461803868682833354169\n",
    "    k1 = 440044004412345678900987654321\n",
    "    k2 = 44^16\n",
    "\n",
    "    E = EllipticCurve(GF(p), [A, B])\n",
    "    G = E([Xg, Yg])\n",
    "    Q = E([Xq, Yq])\n",
    "\n",
    "    print(E)\n",
    "    print()\n",
    "    print(\"JSF =\", JSF(k1, k2, G, Q)[0])\n",
    "    print(\"Sage =\", k1*G + k2*Q)\n",
    "        \n",
    "def run_test(b):\n",
    "    print('test')\n",
    "    test()\n",
    "    print(\"End\")\n",
    "    \n",
    "E1 = None\n",
    "def generate_random_p(b):\n",
    "    #print(\"p (bit) = \",p_bit_input )\n",
    "    p = random_prime(2^p_bit_input.value - 1, lbound=2^(p_bit_input.value-1))\n",
    "    p_input.value = p\n",
    "    \n",
    "def generate_random_AB(b):\n",
    "    global E1\n",
    "    A1, B1 = 0, 0\n",
    "    E1 = None\n",
    "    while not E1:\n",
    "        A1 = randint(2, p_input.value - 2)\n",
    "        B1 = randint(2, p_input.value - 2)\n",
    "        try:\n",
    "            E1 = EllipticCurve(GF(p_input.value), [A1, B1])\n",
    "        except ValueError:\n",
    "            E1 = None\n",
    "    A_input.value = A1\n",
    "    B_input.value = B1\n",
    "    \n",
    "\n",
    "def generate_random_X1(b):\n",
    "    #print(\"1\", E1)\n",
    "    random_X1 = generate_random_point_on_elliptic_curve2(E1)\n",
    "    #print(\"random_X1 = \", random_X1)\n",
    "    Xg_input.value = random_X1[0]\n",
    "    \n",
    "def generate_random_X2(b):\n",
    "    #print(\"1\", E1)\n",
    "    random_X2 = generate_random_point_on_elliptic_curve2(E1)\n",
    "    #print(\"random_X1 = \", random_X1)\n",
    "    Xg2_input.value = random_X2[0]\n",
    "    \n",
    "def generate_random_k1(b):\n",
    "    #print(\"p (bit) = \",p_bit_input )\n",
    "    k1 = random_prime(2^k_bit_input.value - 1, lbound=2^(k_bit_input.value-1))\n",
    "    k1_input.value = k1\n",
    "    \n",
    "def generate_random_k2(b):\n",
    "    #print(\"p (bit) = \",p_bit_input )\n",
    "    k2 = random_prime(2^k_bit_input.value - 1, lbound=2^(k_bit_input.value-1))\n",
    "    k2_input.value = k2\n",
    "    \n",
    "def generate_random_start(b):\n",
    "    global p, A, B, E\n",
    "    p = Integer(p_input.value)\n",
    "    A = A_input.value\n",
    "    B = B_input.value\n",
    "    \n",
    "    k1 = Integer(k1_input.value)\n",
    "    k2 = Integer(k2_input.value)\n",
    "    \n",
    "    E = EllipticCurve(GF(p), [A, B])\n",
    "    print()\n",
    "    print(\"E = \", E)\n",
    "    print(\"p =\", p)\n",
    "    print(\"p (bit) =\", len(p.binary()))\n",
    "\n",
    "    Xg = Xg_input.value\n",
    "    Yg = generate_y_on_elliptic_curve(E, Xg)\n",
    "    P1 = E(Xg, Yg)\n",
    "    \n",
    "    Xg2 = Xg2_input.value\n",
    "    Yg2 = generate_y_on_elliptic_curve(E, Xg2)\n",
    "    P2 = E(Xg2, Yg2)\n",
    "    print(\"P1 = \", P1)\n",
    "    print(\"P2 = \", P2)\n",
    "    print(\"P1* \", k1,\"+ P2*\", k2)\n",
    "    \n",
    "    print(\"JSF =\", JSF(k1, k2, P1, P2)[0])\n",
    "    print(\"Sage =\", k1*P1 + k2*P2)\n",
    "    \n",
    "    P, times, time_pre = JSF(k1, k2, P1, P2)\n",
    "    start_time = time.time()\n",
    "    P11 = binaryMult(P1, E, k1) \n",
    "    P22 = binaryMult(P2, E, k2) \n",
    "    PP = addPoints(P11, P22,E)\n",
    "    print(\"Sage time =\", time.time() - start_time)\n",
    "    print(\"JSF time =\", times)\n",
    "    print(\"Время предвычислений: \", time_pre)\n",
    "\n",
    "    \n",
    "\n",
    "\n",
    "p_bit_input = widgets.IntText(description='Разр. p: ',layout=widgets.Layout(width=\"300px\", height=\"50px\"))\n",
    "p_input = widgets.IntText(description='Введите p: ')\n",
    "generate_button = widgets.Button(description='Сгенерировать p', layout=widgets.Layout(width=\"300px\", height=\"50px\"))\n",
    "generate_button.on_click(generate_random_p)\n",
    "  \n",
    "\n",
    "A_input = widgets.IntText(description='A = ')\n",
    "B_input = widgets.IntText(description='B = ')\n",
    "\n",
    "generate_button_AB = widgets.Button(description='Сгенерировать A и B', layout=widgets.Layout(width=\"300px\", height=\"50px\"))\n",
    "generate_button_AB.on_click(generate_random_AB)\n",
    "\n",
    "Xg_input = widgets.IntText(description='X1 = ')\n",
    "\n",
    "generate_button_X = widgets.Button(description='Сгенерировать X1', layout=widgets.Layout(width=\"300px\", height=\"50px\"))\n",
    "generate_button_X.on_click(generate_random_X1)\n",
    "\n",
    "Xg2_input = widgets.IntText(description='X2 = ')\n",
    "generate_button_X2 = widgets.Button(description='Сгенерировать X2', layout=widgets.Layout(width=\"300px\", height=\"50px\"))\n",
    "generate_button_X2.on_click(generate_random_X2)\n",
    "\n",
    "\n",
    "\n",
    "k_bit_input = widgets.IntText(description='Разр. k: ',layout=widgets.Layout(width=\"300px\", height=\"50px\"))\n",
    "k1_input = widgets.IntText(description='Введите k1: ')\n",
    "generate_button_k1 = widgets.Button(description='Сгенерировать k1', layout=widgets.Layout(width=\"300px\", height=\"50px\"))\n",
    "generate_button_k1.on_click(generate_random_k1)\n",
    "\n",
    "k2_input = widgets.IntText(description='Введите k2: ')\n",
    "generate_button_k2 = widgets.Button(description='Сгенерировать k2', layout=widgets.Layout(width=\"300px\", height=\"50px\"))\n",
    "generate_button_k2.on_click(generate_random_k2)\n",
    "\n",
    "lets_go = widgets.Button(description='Запустить алгоритмы', layout=widgets.Layout(width=\"300px\", height=\"50px\"))\n",
    "lets_go.on_click(generate_random_start)\n",
    "    \n",
    "\n",
    "button_lab = widgets.Button(description=\"1. Запустить вариант из лабораторной\", layout=widgets.Layout(width=\"500px\", height=\"50px\"))\n",
    "button_test = widgets.Button(description=\"2. Запустить тест (t и p близки (32,64,128...))\", layout=widgets.Layout(width=\"500px\", height=\"50px\"))\n",
    "button_test_big = widgets.Button(description=\"3. Запустить тест (среднее время для 3 точек)\", layout=widgets.Layout(width=\"500px\", height=\"50px\"))\n",
    "\n",
    "button_lab.on_click(run_lab_variant)\n",
    "button_test.on_click(run_test)\n",
    "button_test_big.on_click(run_big_test)\n",
    "\n",
    "#display(button_lab, button_test,button_test_big,p_bit_input,p_input,generate_button_p, A_input,B_input,generate_button_AB,Xg_input,generate_button_X,k_bit_input,k_input,generate_button_k,lets_go)\n",
    "display(button_lab, button_test,button_test_big,p_bit_input,p_input,generate_button,A_input,B_input,generate_button_AB,Xg_input,generate_button_X,Xg2_input,generate_button_X2,k_bit_input,k1_input,generate_button_k1,k2_input,generate_button_k2,lets_go)\n",
    "#test(G, Q)\n"
   ]
  },
  {
   "cell_type": "code",
   "execution_count": null,
   "metadata": {},
   "outputs": [],
   "source": []
  },
  {
   "cell_type": "code",
   "execution_count": null,
   "metadata": {},
   "outputs": [],
   "source": []
  }
 ],
 "metadata": {
  "kernelspec": {
   "display_name": "SageMath 9.3",
   "language": "sage",
   "name": "sagemath"
  },
  "language_info": {
   "codemirror_mode": {
    "name": "ipython",
    "version": 3
   },
   "file_extension": ".py",
   "mimetype": "text/x-python",
   "name": "python",
   "nbconvert_exporter": "python",
   "pygments_lexer": "ipython3",
   "version": "3.7.10"
  }
 },
 "nbformat": 4,
 "nbformat_minor": 4
}
