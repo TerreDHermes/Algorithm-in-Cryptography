{
 "cells": [
  {
   "cell_type": "code",
   "execution_count": 1,
   "metadata": {},
   "outputs": [
    {
     "data": {
      "application/vnd.jupyter.widget-view+json": {
       "model_id": "b720608db5cb4a28adf014fdc1abc688",
       "version_major": 2,
       "version_minor": 0
      },
      "text/plain": [
       "Button(description='Запустить вариант из лабораторной', layout=Layout(height='50px', width='300px'), style=But…"
      ]
     },
     "metadata": {},
     "output_type": "display_data"
    },
    {
     "data": {
      "application/vnd.jupyter.widget-view+json": {
       "model_id": "26196dd691ef449db1dd09a9ecefbab8",
       "version_major": 2,
       "version_minor": 0
      },
      "text/plain": [
       "Button(description='Умножение случайной точки', layout=Layout(height='50px', width='300px'), style=ButtonStyle…"
      ]
     },
     "metadata": {},
     "output_type": "display_data"
    },
    {
     "data": {
      "application/vnd.jupyter.widget-view+json": {
       "model_id": "44008957657349c6be1313e1973a859b",
       "version_major": 2,
       "version_minor": 0
      },
      "text/plain": [
       "IntText(value=0, description='p = ')"
      ]
     },
     "metadata": {},
     "output_type": "display_data"
    },
    {
     "data": {
      "application/vnd.jupyter.widget-view+json": {
       "model_id": "85a9e73cd6174d98bcd8ba7ad4954f5a",
       "version_major": 2,
       "version_minor": 0
      },
      "text/plain": [
       "IntText(value=0, description='A = ')"
      ]
     },
     "metadata": {},
     "output_type": "display_data"
    },
    {
     "data": {
      "application/vnd.jupyter.widget-view+json": {
       "model_id": "42014ee19b3846708d8e20d253efa343",
       "version_major": 2,
       "version_minor": 0
      },
      "text/plain": [
       "IntText(value=0, description='B = ')"
      ]
     },
     "metadata": {},
     "output_type": "display_data"
    },
    {
     "data": {
      "application/vnd.jupyter.widget-view+json": {
       "model_id": "711a12fbf27f4011a6d0aa1023fc1777",
       "version_major": 2,
       "version_minor": 0
      },
      "text/plain": [
       "Button(description='Ввести значения (p, A, B)', layout=Layout(height='50px', width='300px'), style=ButtonStyle…"
      ]
     },
     "metadata": {},
     "output_type": "display_data"
    },
    {
     "data": {
      "application/vnd.jupyter.widget-view+json": {
       "model_id": "361bbe3f67a74abf8b74015a34fe9637",
       "version_major": 2,
       "version_minor": 0
      },
      "text/plain": [
       "IntText(value=0, description='X1 = ')"
      ]
     },
     "metadata": {},
     "output_type": "display_data"
    },
    {
     "data": {
      "application/vnd.jupyter.widget-view+json": {
       "model_id": "8203c677110d4a7b92f15d22131b697c",
       "version_major": 2,
       "version_minor": 0
      },
      "text/plain": [
       "Button(description='Сгенерировать X1', layout=Layout(height='50px', width='300px'), style=ButtonStyle())"
      ]
     },
     "metadata": {},
     "output_type": "display_data"
    },
    {
     "data": {
      "application/vnd.jupyter.widget-view+json": {
       "model_id": "5ee1e9d08f8e4d60a79ebf2c9e3f6055",
       "version_major": 2,
       "version_minor": 0
      },
      "text/plain": [
       "Button(description='Ввести значение (X1)', layout=Layout(height='50px', width='300px'), style=ButtonStyle())"
      ]
     },
     "metadata": {},
     "output_type": "display_data"
    },
    {
     "data": {
      "application/vnd.jupyter.widget-view+json": {
       "model_id": "27f0067e8f9340a2b76f06d4b802edf0",
       "version_major": 2,
       "version_minor": 0
      },
      "text/plain": [
       "IntText(value=0, description='X2 = ')"
      ]
     },
     "metadata": {},
     "output_type": "display_data"
    },
    {
     "data": {
      "application/vnd.jupyter.widget-view+json": {
       "model_id": "73c1d1d8e46341b9af4360796792b122",
       "version_major": 2,
       "version_minor": 0
      },
      "text/plain": [
       "Button(description='Сгенерировать X2', layout=Layout(height='50px', width='300px'), style=ButtonStyle())"
      ]
     },
     "metadata": {},
     "output_type": "display_data"
    },
    {
     "data": {
      "application/vnd.jupyter.widget-view+json": {
       "model_id": "65fea947926b48b09dc97ea48cfd1629",
       "version_major": 2,
       "version_minor": 0
      },
      "text/plain": [
       "Button(description='Ввести значение (X2)', layout=Layout(height='50px', width='300px'), style=ButtonStyle())"
      ]
     },
     "metadata": {},
     "output_type": "display_data"
    },
    {
     "data": {
      "application/vnd.jupyter.widget-view+json": {
       "model_id": "64020de79b7f4143bc64557b5a9005dc",
       "version_major": 2,
       "version_minor": 0
      },
      "text/plain": [
       "Button(description='Произвести вычисления с точками', layout=Layout(height='50px', width='300px'), style=Butto…"
      ]
     },
     "metadata": {},
     "output_type": "display_data"
    }
   ],
   "source": [
    "from ipywidgets import widgets, interact\n",
    "from IPython.display import display\n",
    "\n",
    "\n",
    "def generate_random_point_on_elliptic_curve(E):\n",
    "    while True:\n",
    "        x = Integer(randrange(1, p))  # Случайное x в диапазоне [1, p-1]\n",
    "        y_sqr = x**3 + E.a4() * x + E.a6()  # Уравнение кривой для определения y^2\n",
    "        if y_sqr.is_square():\n",
    "            y = y_sqr.sqrt()\n",
    "            return E(x, y)\n",
    "        \n",
    "def generate_y_on_elliptic_curve(E, x):\n",
    "    y_sqr = x**3 + E.a4() * x + E.a6()  # Уравнение кривой для определения y^2\n",
    "    if y_sqr.is_square():\n",
    "        y = y_sqr.sqrt()\n",
    "        return y\n",
    "    else:\n",
    "        return -5\n",
    "\n",
    "def CheckPoint(P, E): #CheckPoint(P, E): Эта функция проверяет, лежит ли точка P на эллиптической кривой E.\n",
    "    x, y = P[0] ,P[1]\n",
    "\n",
    "    if mod(y^2 + E.a1()*x*y + E.a3()*y,  p) == mod(x^3 + E.a2()*x^2  + E.a4()*x + E.a6(), p):\n",
    "        return True\n",
    "    else:\n",
    "        return False\n",
    "\n",
    "#JacobCoord(x, y, z, p, ToYac): Эта функция конвертирует точки между аффинными и Якобиановыми координатами.\n",
    "#Если ToYac равно 1, \n",
    "#функция конвертирует из аффинных в Якобиановы координаты, иначе - наоборот.\n",
    "def JacobCoord(x, y, z, p, ToYac):\n",
    "    if ToYac == 1:\n",
    "        if x == 0 and y == 1:\n",
    "            return 1, 1, 0\n",
    "        return mod(x/z^c, p), mod(y/z^d, p), mod(1/z, p)\n",
    "    else:\n",
    "        if x == 1 and y == 1 and z == 0:\n",
    "            return 0, 1, 0\n",
    "        return mod(x/z^c, p), mod(y/z^d, p) ,mod(1, p)\n",
    "    \n",
    "#double(X, Y, Z, A, p): Эта функция удваивает точку в якобиановых координатах. Функция возвращает координаты удвоенной точки.\n",
    "def double(X, Y, Z, A, p):\n",
    "    T1 = mod(X^2, p)\n",
    "    T2 = mod(Y^2, p)\n",
    "    T3 = mod(T2^2, p)\n",
    "    C = mod(Z^2, p)\n",
    "    \n",
    "    S = mod(2*((X + T2)^2 - T1 - T3), p)\n",
    "    \n",
    "    M = mod(3*T1 + A*C^2, p)\n",
    "    F = mod(M^2 - 2*S, p)\n",
    "    \n",
    "    X2 = F\n",
    "    Y2 = mod(M*(S - F) - 8*T3, p)\n",
    "    Z2 = mod((Y + Z)^2 - T2 - C, p)\n",
    "\n",
    "    return X2, Y2, Z2\n",
    "\n",
    "#addJacob(X1, Y1, Z1, X2, Y2, Z2, p): Эта функция добавляет \n",
    "#две точки в смешанных Якобианово-афинных координатах. Возвращает координаты результата.\n",
    "def addJacob(X1, Y1, Z1, X2, Y2, Z2, p):\n",
    "    if X2 == 0 and Y2 == 1:\n",
    "        return X1, Y1, Z1\n",
    "    \n",
    "    T1 = mod(Z1^2, p)\n",
    "    T2 = mod(Z2^2, p)\n",
    "    U1 = mod(X1*T2, p)\n",
    "    U2 = mod(X2*T1, p)\n",
    "    \n",
    "    S1 = mod(Y1*Z2*T2, p)\n",
    "    S2 = mod(Y2*Z1*T1, p)\n",
    "    H = mod(U2 - U1, p)\n",
    "    I = mod((2*H)^2, p)\n",
    "    \n",
    "    J = mod(H*I, p)\n",
    "    r = mod(2*(S2 - S1), p)\n",
    "    V = mod(U1*I, p)\n",
    "    \n",
    "    X3 = mod(r^2 - J - 2*V, p)\n",
    "    Y3 = mod(r*(V - X3) - 2*S1*J, p)\n",
    "    Z3 = mod(((Z1 + Z2)^2 - T1 - T2)*H, p)\n",
    "\n",
    "    return (X3, Y3, Z3)\n",
    "\n",
    "#addPoints(P, Q, E): Эта функция принимает две точки P и Q в аффинных координатах, преобразует их в якобиановы координаты,\n",
    "#добавляет их вместе с использованием функции addJacob, а затем преобразует результат обратно в аффинные координаты.\n",
    "def addPoints(P, Q, E):\n",
    "    z = randint(1, p-1)\n",
    "\n",
    "    if P[0] == 0 and P[1] == 1:\n",
    "        Xp, Yp, Zp = 1, 1, 0\n",
    "    else:\n",
    "        Xp, Yp, Zp = JacobCoord(P[0], P[1], z, p, 1)\n",
    "\n",
    "    Xr, Yr, Zr = addJacob(Xp, Yp, Zp, Q[0], Q[1], 1, p)\n",
    "    Xa, Ya, Za = JacobCoord(Xr, Yr, Zr, p, 0)\n",
    "\n",
    "    return E(Xa, Ya, Za)\n",
    "\n",
    "#doublePoint(P, E): Эта функция принимает точку P в аффинных координатах, преобразует ее в якобиановы координаты,\n",
    "#удваивает ее с использованием функции double, а затем преобразует результат обратно в аффинные координаты.\n",
    "def doublePoint(P, E):\n",
    "    z = randint(1, p-1)\n",
    "    \n",
    "    Xp, Yp, Zp = JacobCoord(P[0], P[1], z, p, 1)\n",
    "    Xd, Yd, Zd = double(Xp, Yp, Zp, A, p)\n",
    "    Xa, Ya, Za = JacobCoord(Xd, Yd, Zd, p, 0)\n",
    "    \n",
    "    return E(Xa, Ya, Za)\n",
    "\n",
    "#binaryMult(P, E, k): Эта функция выполняет двоичное\n",
    "#умножение точки P на число k с использованием сложения и удвоения точек эллиптической кривой.\n",
    "def binaryMult(P, E, k):\n",
    "    Q = E(0, 1, 0)\n",
    "    k_bin = k.binary()\n",
    "    t = len(k_bin)\n",
    "    i = t - 1\n",
    "\n",
    "    while i >= 0 :\n",
    "        if k_bin[i] == '1':\n",
    "            Q = addPoints(P, Q, E)\n",
    "        P = doublePoint(P, E)\n",
    "        i -= 1\n",
    "    return Q\n",
    "\n",
    "#task(E): Эта функция выполняет серию операций, \n",
    "#демонстрирующих работу функций сложения, удвоения и бинарного умножения на примерах.\n",
    "def task(E):\n",
    "    print('\\n p=',p)\n",
    "    G = E(Xg, Yg)\n",
    "    \n",
    "    print (\"\\nG =\", G)\n",
    "    print()\n",
    "    print (\"\\n2G (Sage) =\", 2*G)\n",
    "    print()\n",
    "    print (\"\\n2G =\", binaryMult(G, E, 2))\n",
    "    print()\n",
    "    \n",
    "    G1 = 4004*G\n",
    "    G1_test = binaryMult(G, E, 4004)\n",
    "   \n",
    "   \n",
    "    G2 = 4321000000000000000000000000001234*G\n",
    "    G2_test = binaryMult(G, E, 4321000000000000000000000000001234)\n",
    "    \n",
    "    \n",
    "    G3 = G1 + G2\n",
    "    G3_test = addPoints(G1, G2, E)\n",
    "    print (\"\\n4004G1 + 4321000000000000000000000000001234G (Sage) =\", G3)\n",
    "    print()\n",
    "    print (\"\\n4004G1 + 4321000000000000000000000000001234G =\", G3_test)\n",
    "\n",
    "    \n",
    "Z = 1\n",
    "c = 2\n",
    "d = 3\n",
    "p = None\n",
    "A = None\n",
    "B = None\n",
    "Xg = None\n",
    "Yg = None\n",
    "X11 = None\n",
    "Y11 = None\n",
    "X22 = None\n",
    "Y22 = None\n",
    " \n",
    "#p = int(input(\"p = \"))\n",
    "#A = int(input(\"A = \"))\n",
    "#B = int(input(\"B = \"))\n",
    "\n",
    "\n",
    "\n",
    "        \n",
    "def run_lab_variant(b):\n",
    "    global p, A, B,Xg, Yg, E\n",
    "    p = 115792089237316193816632940749697632408932724669461758699102671622853342616127\n",
    "    A = 10001090682862736796505780343107022911835438229291751861888571869223050424594\n",
    "    B = 45264756867680555803214833811970559410867867042681754140959938453766481155105    \n",
    "    E = EllipticCurve(GF(p), [A, B])\n",
    "    print('\\n')\n",
    "    print(E)\n",
    "    print()\n",
    "\n",
    "    #random_point1 = E.random_point()\n",
    "    random_point1 = generate_random_point_on_elliptic_curve(E)\n",
    "    random_point2 = binaryMult(random_point1, E, 2)\n",
    "    random_point3 = binaryMult(random_point1, E, 3)\n",
    "\n",
    "    print(\"P:\", random_point1)\n",
    "\n",
    "    if (CheckPoint(random_point1, E)):\n",
    "        print(\"The point P lies on the curve\\n\")\n",
    "    else:\n",
    "        print(\"The point P is not lies on the curve\\n\")\n",
    "\n",
    "    print(\"2P:\", random_point2)\n",
    "    print()\n",
    "    print(\"3P:\", random_point3)\n",
    "    print()\n",
    "\n",
    "    #Xg = int(input(\"Xg = \"))\n",
    "    #Yg = int(input(\"Yg = \"))\n",
    "\n",
    "    Xg = 34131522064967883044818697086599304935071739419701303653954060188761196377435\n",
    "    #yy = generate_y_on_elliptic_curve(E, Xg)\n",
    "    #print(\"yy = \", yy)\n",
    "    Yg = 22161743160862324650134218095423264926581638655388631138889754360346138331114\n",
    "    #print(\"Yg = \", Yg)\n",
    "    #W = 4004\n",
    "    #W2 = 4321000000000000000000000000001234\n",
    "    if (CheckPoint(E(Xg, Yg), E)):\n",
    "        print(\"The point P lies on the curve\\n\")\n",
    "    else:\n",
    "        print(\"The point P is not lies on the curve\\n\")\n",
    "    \n",
    "\n",
    "    task(E)\n",
    "\n",
    "    \n",
    "def input_function(b):\n",
    "    global p, A, B, Xg, Yg, E\n",
    "    \n",
    "    p = p_input.value\n",
    "    A = A_input.value\n",
    "    B = B_input.value\n",
    "\n",
    "    E = EllipticCurve(GF(p), [A, B])\n",
    "    print('\\n')\n",
    "    print(E)\n",
    "    print(\"Возможная точка: \", generate_random_point_on_elliptic_curve(E))\n",
    "    print(\"Возможная точка: \", generate_random_point_on_elliptic_curve(E))\n",
    "    print(\"Возможная точка: \", generate_random_point_on_elliptic_curve(E))\n",
    "    print(\"Возможная точка: \", generate_random_point_on_elliptic_curve(E))\n",
    "    \n",
    "        \n",
    "def input_function2(b):\n",
    "    global p, A, B, X11, Y11, E\n",
    "    X11 = Xg_input.value\n",
    "    Y11 = generate_y_on_elliptic_curve(E, X11)\n",
    "    \n",
    "    if Y11 == -5:\n",
    "        print(\"Такой точки нет\")\n",
    "    else:\n",
    "        print(\"X1 = \", X11)\n",
    "        print(\"Y1 = \", Y11)\n",
    "        \n",
    "def input_function3(b):\n",
    "    global p, A, B, X22, Y22\n",
    "    X22 = Xg2_input.value\n",
    "    Y22 = generate_y_on_elliptic_curve(E, X22)\n",
    "    \n",
    "    if Y22 == -5:\n",
    "        print(\"Такой точки нет\")\n",
    "    else:\n",
    "        print(\"X2 = \", X22)\n",
    "        print(\"Y2 = \", Y22)\n",
    "        \n",
    "def task_function(b):\n",
    "    G1 = E(X11, Y11)\n",
    "    G2 = E(X22, Y22)\n",
    "    print('\\np = ', p)\n",
    "    print('A = ', A)\n",
    "    print('B = ', B)\n",
    "    print (\"G1 =\", G1)\n",
    "    print (\"G2 =\", G2)\n",
    "    print()\n",
    "    print (\"\\nSage. 2*G1 = \", 2*G1)\n",
    "    print (\"2*G1 =\", binaryMult(G1, E, 2))\n",
    "    print()\n",
    "    G3 = G1 + G2\n",
    "    G3_test = addPoints(G1, G2, E)\n",
    "    print (\"\\nSage. G1 + G2 = \", G3)\n",
    "    print (\"G1 + G2 =\", G3_test)\n",
    "    \n",
    "def generate_random_X1(b):\n",
    "    random_X1 = generate_random_point_on_elliptic_curve(E)\n",
    "    Xg_input.value = random_X1[0]\n",
    "    \n",
    "def generate_random_X2(b):\n",
    "    random_X2 = generate_random_point_on_elliptic_curve(E)\n",
    "    Xg2_input.value = random_X2[0]\n",
    "\n",
    "p_input = widgets.IntText(description='p = ')\n",
    "A_input = widgets.IntText(description='A = ')\n",
    "B_input = widgets.IntText(description='B = ')\n",
    "Xg_input = widgets.IntText(description='X1 = ')\n",
    "Xg2_input = widgets.IntText(description='X2 = ')\n",
    "\n",
    "# Создаем кнопку для выполнения ввода\n",
    "input_button = widgets.Button(description=\"Ввести значения (p, A, B)\", layout=widgets.Layout(width=\"300px\", height=\"50px\"))\n",
    "input_button.on_click(input_function)\n",
    "\n",
    "input_button2 = widgets.Button(description=\"Ввести значение (X1)\", layout=widgets.Layout(width=\"300px\", height=\"50px\"))\n",
    "input_button2.on_click(input_function2)\n",
    "\n",
    "input_button3 = widgets.Button(description=\"Ввести значение (X2)\", layout=widgets.Layout(width=\"300px\", height=\"50px\"))\n",
    "input_button3.on_click(input_function3)\n",
    "\n",
    "task_button = widgets.Button(description=\"Произвести вычисления с точками\", layout=widgets.Layout(width=\"300px\", height=\"50px\"))\n",
    "task_button.on_click(task_function)\n",
    "\n",
    "generate_button = widgets.Button(description='Сгенерировать X1', layout=widgets.Layout(width=\"300px\", height=\"50px\"))\n",
    "generate_button.on_click(generate_random_X1)  \n",
    "\n",
    "generate_button2 = widgets.Button(description='Сгенерировать X2', layout=widgets.Layout(width=\"300px\", height=\"50px\"))\n",
    "generate_button2.on_click(generate_random_X2)  \n",
    "    \n",
    "def use_random_point(b):\n",
    "    random_point1 = generate_random_point_on_elliptic_curve(E)\n",
    "    random_point2 = binaryMult(random_point1, E, 2)\n",
    "    random_point3 = binaryMult(random_point1, E, 3)\n",
    "\n",
    "    print(\"P:\", random_point1)\n",
    "\n",
    "    if (CheckPoint(random_point1, E)):\n",
    "        print(\"The point P lies on the curve\\n\")\n",
    "    else:\n",
    "        print(\"The point P is not lies on the curve\\n\")\n",
    "\n",
    "    print(\"2P:\", random_point2)\n",
    "    print()\n",
    "    print(\"3P:\", random_point3)\n",
    "    print()\n",
    "\n",
    "\n",
    "    \n",
    "    \n",
    "# Создаем кнопки\n",
    "button_lab = widgets.Button(description=\"Запустить вариант из лабораторной\", layout=widgets.Layout(width=\"300px\", height=\"50px\"))\n",
    "button_random = widgets.Button(description=\"Умножение случайной точки\", layout=widgets.Layout(width=\"300px\", height=\"50px\"))\n",
    "\n",
    "# Назначаем обработчики событий на кнопки\n",
    "button_lab.on_click(run_lab_variant)\n",
    "button_random.on_click(use_random_point)\n",
    "\n",
    "# Отображаем кнопки\n",
    "display(button_lab, button_random, p_input, A_input, B_input, input_button, Xg_input,generate_button, input_button2,Xg2_input,generate_button2, input_button3,task_button)\n",
    "\n",
    "\n",
    "\n",
    "#p = 17 A = 2 B = 2\n",
    "#p = 11 A = 2 B = 7\n",
    "#p = 31 A = 6 B = 9\n",
    "\n",
    "#P1 = (16, 4) P2 = (7, 11)\n",
    "\n"
   ]
  },
  {
   "cell_type": "code",
   "execution_count": null,
   "metadata": {},
   "outputs": [],
   "source": []
  },
  {
   "cell_type": "code",
   "execution_count": null,
   "metadata": {},
   "outputs": [],
   "source": []
  }
 ],
 "metadata": {
  "kernelspec": {
   "display_name": "SageMath 9.3",
   "language": "sage",
   "name": "sagemath"
  },
  "language_info": {
   "codemirror_mode": {
    "name": "ipython",
    "version": 3
   },
   "file_extension": ".py",
   "mimetype": "text/x-python",
   "name": "python",
   "nbconvert_exporter": "python",
   "pygments_lexer": "ipython3",
   "version": "3.7.10"
  }
 },
 "nbformat": 4,
 "nbformat_minor": 4
}
