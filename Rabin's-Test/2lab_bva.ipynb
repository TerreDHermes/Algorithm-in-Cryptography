{
 "cells": [
  {
   "cell_type": "code",
   "execution_count": 8,
   "metadata": {},
   "outputs": [
    {
     "data": {
      "application/vnd.jupyter.widget-view+json": {
       "model_id": "ff2590fbfe5d44ebbef278988e4c9caf",
       "version_major": 2,
       "version_minor": 0
      },
      "text/plain": [
       "Textarea(value='', layout=Layout(height='100px', width='800px'), placeholder='Введите многочлен от одной перем…"
      ]
     },
     "metadata": {},
     "output_type": "display_data"
    },
    {
     "data": {
      "application/vnd.jupyter.widget-view+json": {
       "model_id": "563446d43b534f82a8c97c3fe05eb431",
       "version_major": 2,
       "version_minor": 0
      },
      "text/plain": [
       "Textarea(value='', layout=Layout(height='50px', width='500px'), placeholder='Введите количество элементов в по…"
      ]
     },
     "metadata": {},
     "output_type": "display_data"
    },
    {
     "data": {
      "application/vnd.jupyter.widget-view+json": {
       "model_id": "478380d96dc64de7aa40f3f008082022",
       "version_major": 2,
       "version_minor": 0
      },
      "text/plain": [
       "Button(button_style='success', description='Тест Рабина на неприводимость', layout=Layout(height='50px', width…"
      ]
     },
     "metadata": {},
     "output_type": "display_data"
    },
    {
     "data": {
      "application/vnd.jupyter.widget-view+json": {
       "model_id": "4d6dc2a79c19430aa5bb491031209711",
       "version_major": 2,
       "version_minor": 0
      },
      "text/plain": [
       "Button(button_style='success', description='Генерация неприводимого многочлена', layout=Layout(height='50px', …"
      ]
     },
     "metadata": {},
     "output_type": "display_data"
    },
    {
     "data": {
      "application/vnd.jupyter.widget-view+json": {
       "model_id": "14b467691cc24daf81c9f6088b56c4e3",
       "version_major": 2,
       "version_minor": 0
      },
      "text/plain": [
       "Output(layout=Layout(border='1px solid #000'))"
      ]
     },
     "metadata": {},
     "output_type": "display_data"
    },
    {
     "data": {
      "application/vnd.jupyter.widget-view+json": {
       "model_id": "b9be0f2b2f3c48a98952f2d6ede6ff68",
       "version_major": 2,
       "version_minor": 0
      },
      "text/plain": [
       "Output(layout=Layout(border='1px solid #000'))"
      ]
     },
     "metadata": {},
     "output_type": "display_data"
    }
   ],
   "source": [
    "from IPython.display import display, clear_output\n",
    "from ipywidgets import widgets, Button, Layout\n",
    "from sympy import symbols, Poly\n",
    "\n",
    "rabin_display = 0\n",
    "\n",
    "def Gen_polynomial(q, init_coeffs):\n",
    "    K.<x> = PolynomialRing(Zmod(q))\n",
    "    f = K(init_coeffs)\n",
    "    n = f.degree()\n",
    "    R = QuotientRing(K, ideal(f))\n",
    "    x = R([0, 1])\n",
    "    while 1:\n",
    "        alpha = R.random_element()\n",
    "        r = 1\n",
    "\n",
    "        phi = x - alpha\n",
    "\n",
    "        g = R(alpha^q)\n",
    "\n",
    "        while g != alpha:\n",
    "            r += 1\n",
    "            phi = R(phi*(x - g))\n",
    "            g = R(g^q)\n",
    "\n",
    "        if r >= n:\n",
    "            #print(phi.lift())\n",
    "            return phi.lift() + f\n",
    "            \n",
    "\n",
    "def Rabin(q_input, init_coeffs):\n",
    "    if rabin_display == 1:\n",
    "        K.<x> = PolynomialRing(Zmod(q_input))\n",
    "        f = K(init_coeffs)\n",
    "    else:\n",
    "        K.<x> = PolynomialRing(Zmod(q_input))\n",
    "        f = init_coeffs\n",
    "    n = f.degree()\n",
    "    q = f.base_ring().order()\n",
    "    g = (K([0, 1])^q)%f\n",
    "\n",
    "    for i in range(1, n):\n",
    "        r = n // i\n",
    "        if n == r * i and is_prime(r):\n",
    "            if gcd(f, g - K([0, 1])) != 1:\n",
    "                return False\n",
    "        g = pow(g, q, f)\n",
    "\n",
    "    if g != K([0, 1]):\n",
    "        return False\n",
    "\n",
    "    return True\n",
    "\n",
    "\n",
    "\n",
    "\n",
    "\n",
    "\n",
    "output1 = widgets.Output(layout={'border': '1px solid #000'})\n",
    "output2 = widgets.Output(layout={'border': '1px solid #000'})\n",
    "def display_result_U(U):\n",
    "    if rabin_display == 1:\n",
    "        with output1:\n",
    "            clear_output()  # Очистить предыдущий вывод\n",
    "            print('Результат теста Рабина: ')\n",
    "            print(U)\n",
    "    else:\n",
    "         with output1:\n",
    "            clear_output()  # Очистить предыдущий вывод\n",
    "            print('Сгенерированный многочлен: ')\n",
    "            print(U)\n",
    "            print ('\\n Generated degree: ', U.degree())\n",
    "            print ('\\n Factor generated: ', U.factor())\n",
    "    \n",
    "def display_result_Sage(q_input, init_coeffs, U):\n",
    "    if rabin_display == 1:\n",
    "        with output2:\n",
    "            clear_output()\n",
    "            K.<x> = PolynomialRing(Zmod(q_input))\n",
    "            f = K(init_coeffs)\n",
    "            if is_prime(q_input):\n",
    "                print('Разложение многочлена от Sage: ', f.factor())\n",
    "            else:\n",
    "                print('Sage не поддерживает разложение многочленов над такими кольцами.')\n",
    "    else:\n",
    "        with output2:\n",
    "            clear_output()\n",
    "            print('Check by Rabin: ', Rabin(q_input,U))\n",
    "\n",
    "        \n",
    "        \n",
    "        \n",
    "text_area = widgets.Textarea(\n",
    "    value='',\n",
    "    placeholder='Введите многочлен от одной переменной...',\n",
    "    layout=widgets.Layout(width='800px', height='100px')\n",
    ")\n",
    "text_area2 = widgets.Textarea(\n",
    "    value='',\n",
    "    placeholder='Введите количество элементов в поле...',\n",
    "    layout=widgets.Layout(width='500px', height='50px')\n",
    ")\n",
    "\n",
    "\n",
    "button1 = Button(description=\"Тест Рабина на неприводимость\", \n",
    "                        button_style='success',layout=Layout(width='40%', height='50px') # 'success', 'info', 'warning', 'danger', ''\n",
    "                        )\n",
    "\n",
    "\n",
    "button2 = Button(description=\"Генерация неприводимого многочлена\", \n",
    "                        button_style='success',layout=Layout(width='40%', height='50px') # 'success', 'info', 'warning', 'danger', ''\n",
    "                        )\n",
    "\n",
    "\n",
    "def on_button_clicked(b):\n",
    "    global rabin_display\n",
    "    rabin_display = 1\n",
    "    # Получаем введенные значения из текстовых полей\n",
    "    polynomial_input = text_area.value\n",
    "    q_input = int(text_area2.value.strip())\n",
    "    \n",
    "    # Преобразуем введенный многочлен в список коэффициентов\n",
    "    x = symbols('x')\n",
    "    poly = Poly(polynomial_input, x)\n",
    "    init_coeffs = poly.all_coeffs()\n",
    "    init_coeffs = init_coeffs[::-1]\n",
    "    init_coeffs = [int(coeff.evalf()) for coeff in init_coeffs]\n",
    "    \n",
    "    \n",
    "    # Вызываем функцию Berlikamp с полученными данными\n",
    "    U = Rabin(q_input, init_coeffs)\n",
    "    \n",
    "    # Выводим результат\n",
    "    display_result_U(U)\n",
    "    display_result_Sage(q_input, init_coeffs, U)\n",
    "    rabin_display = 0\n",
    "    \n",
    "    \n",
    "def on_button_clicked2(b):\n",
    "    # Получаем введенные значения из текстовых полей\n",
    "    polynomial_input = text_area.value\n",
    "    q_input = int(text_area2.value.strip())\n",
    "    \n",
    "    # Преобразуем введенный многочлен в список коэффициентов\n",
    "    x = symbols('x')\n",
    "    poly = Poly(polynomial_input, x)\n",
    "    init_coeffs = poly.all_coeffs()\n",
    "    init_coeffs = init_coeffs[::-1]\n",
    "    init_coeffs = [int(coeff.evalf()) for coeff in init_coeffs]\n",
    "    \n",
    "    \n",
    "    # Вызываем функцию Berlikamp с полученными данными\n",
    "    U = Gen_polynomial(q_input, init_coeffs)\n",
    "    \n",
    "    # Выводим результат\n",
    "    display_result_U(U)\n",
    "    display_result_Sage(q_input, init_coeffs, U)\n",
    "    \n",
    "    \n",
    "button1.on_click(on_button_clicked) # Назначаем этот обработчик на событие \"on_click\"\n",
    "button2.on_click(on_button_clicked2) # Назначаем этот обработчик на событие \"on_click\"\n",
    "\n",
    "display(text_area,text_area2, button1,button2, output1, output2) # Отображаем кнопку\n",
    "    \n",
    "\n",
    "\n",
    "\n",
    "\n",
    "\n",
    "\n",
    "\n",
    "\n",
    "\n",
    "\n",
    "#q = 2050079\n",
    "\n",
    "#coeffs = [2050077, 50, 2049688, 1904, 2043619, 16184, 2019139, 45968, 1996597, 48620, 2016045, 17680, 2043891, 952, 340, 2049807, 85, 2050065, 1]\n",
    "#coeffs2 = [273649, 222532, 1696631, 1009691, 1645530, 1850770, 1639985, 796104, 48493, 27932, 607298, 1344201, 780409, 1931169, 124879, 2024971, 1788, 2050014, 1]\n",
    "\n"
   ]
  },
  {
   "cell_type": "code",
   "execution_count": null,
   "metadata": {},
   "outputs": [],
   "source": []
  }
 ],
 "metadata": {
  "kernelspec": {
   "display_name": "SageMath 9.3",
   "language": "sage",
   "name": "sagemath"
  },
  "language_info": {
   "codemirror_mode": {
    "name": "ipython",
    "version": 3
   },
   "file_extension": ".py",
   "mimetype": "text/x-python",
   "name": "python",
   "nbconvert_exporter": "python",
   "pygments_lexer": "ipython3",
   "version": "3.7.10"
  }
 },
 "nbformat": 4,
 "nbformat_minor": 4
}
