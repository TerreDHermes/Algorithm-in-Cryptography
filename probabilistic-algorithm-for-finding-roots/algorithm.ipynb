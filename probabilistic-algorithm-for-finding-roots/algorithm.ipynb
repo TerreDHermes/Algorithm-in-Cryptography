{
 "cells": [
  {
   "cell_type": "code",
   "execution_count": 7,
   "metadata": {},
   "outputs": [
    {
     "name": "stdout",
     "output_type": "stream",
     "text": [
      "p = 3380659\n",
      "Введите многочлен от одной переменной: x^17 + 3371938*x^15 + 2656364*x^14 + 839900*x^13 + 189567*x^12 + 562171*x^11 + 59966*x^10 + 183633*x^9 + 916975*x^8 + 249259*x^7 + 55393*x^6 + 467855*x^5 + 1959961*x^4 + 1710912*x^3 + 2461019*x^2 + 1848930*x + 831453\n",
      "\n",
      "Наш многочлен от одной переменной: \n",
      "f(x) =  x^17 + 3371938*x^15 + 2656364*x^14 + 839900*x^13 + 189567*x^12 + 562171*x^11 + 59966*x^10 + 183633*x^9 + 916975*x^8 + 249259*x^7 + 55393*x^6 + 467855*x^5 + 1959961*x^4 + 1710912*x^3 + 2461019*x^2 + 1848930*x + 831453 \n",
      "\n",
      "Результат вероятностного алгоритма:  [2998547, 593791]\n",
      "Результат Sage:  [(2998547, 1), (593791, 1)]\n"
     ]
    }
   ],
   "source": [
    "def probability_algorithm():\n",
    "    global Roots\n",
    "\n",
    "    g = gcd(f, x^p - x)\n",
    "    n = g.degree()\n",
    "    \n",
    "    if n == 0:\n",
    "        print('deg(g) = 0. Корней нет')\n",
    "        return 0\n",
    "    elif n == 1:\n",
    "        print('deg(g) = 1')\n",
    "        return -g[0]\n",
    "    elif n == p:\n",
    "        print('deg(g) - p. Корни - все элементы Fp')\n",
    "        return 'all'\n",
    "\n",
    "    decomposition(g)\n",
    " \n",
    "    print('\\nНаш многочлен от одной переменной: \\nf(x) = ', f, '\\n')\n",
    "    print('Результат вероятностного алгоритма: ', Roots)\n",
    "    print('Результат Sage: ', f.roots())\n",
    "\n",
    "def decomposition(g):\n",
    "    if g.degree () == 0:\n",
    "        return 0\n",
    "    \n",
    "    while True:\n",
    "        d = gcd((x + randint(1, p))^((p - 1) / 2) - 1, g)\n",
    "\n",
    "        if d != R(1) or d != g:\n",
    "            break\n",
    "\n",
    "    n = d.degree()\n",
    "\n",
    "    if n == 1:\n",
    "        b = -d.coefficients()[0]\n",
    "        Roots.append(b)\n",
    "        g = g // (x - b)\n",
    "        return decomposition(g)\n",
    "    elif n == g.degree() - 1:\n",
    "        t = g // d\n",
    "        b = -t.coefficients()[0]\n",
    "        Roots.append(b)\n",
    "        return decomposition(d)\n",
    "    else:\n",
    "        return decomposition(d), decomposition(g // d)\n",
    "\n",
    "    \n",
    "    \n",
    "p = int(input(\"p = \"))\n",
    "F = GF(p)\n",
    "R.<x> = PolynomialRing(F)\n",
    "#f_coeffs = list(map(int, input(\"Введите коэффициенты многочлена (через пробел или запятую с пробелом): \").replace(',', '').split()))\n",
    "f_str = input(\"Введите многочлен от одной переменной: \")\n",
    "f = R(f_str)\n",
    "#print(f)\n",
    "Roots = []    \n",
    "probability_algorithm()\n",
    "#3380659\n",
    "# 831453 1848930 2461019 1710912 1959961 467855 55393 249259 916975 183633 59966 562171 189567 839900 2656364 3371938 0 1\n",
    "#x^17 + 3371938*x^15 + 2656364*x^14 + 839900*x^13 + 189567*x^12 + 562171*x^11 + 59966*x^10 + 183633*x^9 + 916975*x^8 + 249259*x^7 + 55393*x^6 + 467855*x^5 + 1959961*x^4 + 1710912*x^3 + 2461019*x^2 + 1848930*x + 831453\n"
   ]
  },
  {
   "cell_type": "code",
   "execution_count": null,
   "metadata": {},
   "outputs": [],
   "source": []
  },
  {
   "cell_type": "code",
   "execution_count": null,
   "metadata": {},
   "outputs": [],
   "source": []
  }
 ],
 "metadata": {
  "kernelspec": {
   "display_name": "SageMath 9.3",
   "language": "sage",
   "name": "sagemath"
  },
  "language_info": {
   "codemirror_mode": {
    "name": "ipython",
    "version": 3
   },
   "file_extension": ".py",
   "mimetype": "text/x-python",
   "name": "python",
   "nbconvert_exporter": "python",
   "pygments_lexer": "ipython3",
   "version": "3.7.10"
  }
 },
 "nbformat": 4,
 "nbformat_minor": 4
}
